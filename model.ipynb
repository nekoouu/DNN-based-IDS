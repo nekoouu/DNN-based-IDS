{
 "cells": [
  {
   "cell_type": "code",
   "execution_count": 1,
   "metadata": {},
   "outputs": [],
   "source": [
    "#In the name of GOD"
   ]
  },
  {
   "cell_type": "code",
   "execution_count": 2,
   "metadata": {},
   "outputs": [],
   "source": [
    "import pandas as pd\n",
    "from sklearn.model_selection import train_test_split\n",
    "import glob\n",
    "import pandas as pd\n",
    "import numpy as np\n",
    "from keras.utils import to_categorical\n",
    "from keras.layers import Input\n",
    "from keras.layers import Dropout"
   ]
  },
  {
   "cell_type": "code",
   "execution_count": 3,
   "metadata": {},
   "outputs": [],
   "source": [
    "def eval(y_true, y_pred):\n",
    "    global p\n",
    "    global r\n",
    "    global f_1\n",
    "    global a\n",
    "    global fnr\n",
    "    global er_rate\n",
    "    from sklearn.metrics import fbeta_score\n",
    "    from sklearn.metrics import f1_score\n",
    "    from sklearn.metrics import precision_score\n",
    "    from sklearn.metrics import recall_score\n",
    "    from sklearn.metrics import accuracy_score\n",
    "\n",
    "    p = precision_score(y_true, y_pred)\n",
    "    r = recall_score(y_true, y_pred)\n",
    "    #f_2 = fbeta_score(y_true, y_pred, beta=2.0)\n",
    "    f_1 = f1_score(y_true, y_pred)\n",
    "    a = accuracy_score(y_true, y_pred)\n",
    "    #for binary classification :    FNR = 1 - TPR and TPR = recall \n",
    "    #                               error rate = 1 - accuracy = 1 - (# classified correct) / (# classified total) \n",
    "\n",
    "    fnr = 1 - r\n",
    "    er_rate = 1 - a\n",
    "\n",
    "\n",
    "   \n",
    "\n",
    "    print(\"FNR:\")\n",
    "    print(fnr)\n",
    "    print(\"ER:\")\n",
    "    print(er_rate)\n",
    "    print(\"Precision:\")\n",
    "    print(p)\n",
    "    print(\"Recall:\")\n",
    "    print(r)\n",
    "    print(\"F-1 Score:\")\n",
    "    print(f_1)\n",
    "    print(\"accuracy\")\n",
    "    print(a)\n",
    "\n",
    "\n",
    "\n",
    "    return fnr, er_rate, p, r, f_1, a"
   ]
  },
  {
   "cell_type": "code",
   "execution_count": 4,
   "metadata": {},
   "outputs": [
    {
     "data": {
      "text/html": [
       "<div>\n",
       "<style scoped>\n",
       "    .dataframe tbody tr th:only-of-type {\n",
       "        vertical-align: middle;\n",
       "    }\n",
       "\n",
       "    .dataframe tbody tr th {\n",
       "        vertical-align: top;\n",
       "    }\n",
       "\n",
       "    .dataframe thead th {\n",
       "        text-align: right;\n",
       "    }\n",
       "</style>\n",
       "<table border=\"1\" class=\"dataframe\">\n",
       "  <thead>\n",
       "    <tr style=\"text-align: right;\">\n",
       "      <th></th>\n",
       "      <th>Unnamed: 0</th>\n",
       "      <th>Timestamp</th>\n",
       "      <th>Arbitration_ID</th>\n",
       "      <th>DLC</th>\n",
       "      <th>Class</th>\n",
       "      <th>SubClass</th>\n",
       "      <th>Data[0]</th>\n",
       "      <th>Data[1]</th>\n",
       "      <th>Data[2]</th>\n",
       "      <th>Data[3]</th>\n",
       "      <th>Data[4]</th>\n",
       "      <th>Data[5]</th>\n",
       "      <th>Data[6]</th>\n",
       "      <th>Data[7]</th>\n",
       "    </tr>\n",
       "  </thead>\n",
       "  <tbody>\n",
       "    <tr>\n",
       "      <th>0</th>\n",
       "      <td>0</td>\n",
       "      <td>1.597708e+09</td>\n",
       "      <td>608</td>\n",
       "      <td>8</td>\n",
       "      <td>0</td>\n",
       "      <td>Normal</td>\n",
       "      <td>6</td>\n",
       "      <td>37</td>\n",
       "      <td>5</td>\n",
       "      <td>48</td>\n",
       "      <td>255</td>\n",
       "      <td>207</td>\n",
       "      <td>113</td>\n",
       "      <td>85</td>\n",
       "    </tr>\n",
       "    <tr>\n",
       "      <th>1</th>\n",
       "      <td>1</td>\n",
       "      <td>1.597708e+09</td>\n",
       "      <td>809</td>\n",
       "      <td>8</td>\n",
       "      <td>0</td>\n",
       "      <td>Normal</td>\n",
       "      <td>74</td>\n",
       "      <td>197</td>\n",
       "      <td>126</td>\n",
       "      <td>140</td>\n",
       "      <td>49</td>\n",
       "      <td>45</td>\n",
       "      <td>1</td>\n",
       "      <td>16</td>\n",
       "    </tr>\n",
       "    <tr>\n",
       "      <th>2</th>\n",
       "      <td>2</td>\n",
       "      <td>1.597708e+09</td>\n",
       "      <td>909</td>\n",
       "      <td>8</td>\n",
       "      <td>0</td>\n",
       "      <td>Normal</td>\n",
       "      <td>0</td>\n",
       "      <td>0</td>\n",
       "      <td>73</td>\n",
       "      <td>0</td>\n",
       "      <td>144</td>\n",
       "      <td>127</td>\n",
       "      <td>254</td>\n",
       "      <td>1</td>\n",
       "    </tr>\n",
       "    <tr>\n",
       "      <th>3</th>\n",
       "      <td>3</td>\n",
       "      <td>1.597708e+09</td>\n",
       "      <td>1056</td>\n",
       "      <td>8</td>\n",
       "      <td>0</td>\n",
       "      <td>Normal</td>\n",
       "      <td>80</td>\n",
       "      <td>30</td>\n",
       "      <td>0</td>\n",
       "      <td>200</td>\n",
       "      <td>252</td>\n",
       "      <td>79</td>\n",
       "      <td>106</td>\n",
       "      <td>0</td>\n",
       "    </tr>\n",
       "    <tr>\n",
       "      <th>4</th>\n",
       "      <td>4</td>\n",
       "      <td>1.597708e+09</td>\n",
       "      <td>1057</td>\n",
       "      <td>8</td>\n",
       "      <td>0</td>\n",
       "      <td>Normal</td>\n",
       "      <td>254</td>\n",
       "      <td>7</td>\n",
       "      <td>0</td>\n",
       "      <td>255</td>\n",
       "      <td>227</td>\n",
       "      <td>127</td>\n",
       "      <td>0</td>\n",
       "      <td>82</td>\n",
       "    </tr>\n",
       "    <tr>\n",
       "      <th>...</th>\n",
       "      <td>...</td>\n",
       "      <td>...</td>\n",
       "      <td>...</td>\n",
       "      <td>...</td>\n",
       "      <td>...</td>\n",
       "      <td>...</td>\n",
       "      <td>...</td>\n",
       "      <td>...</td>\n",
       "      <td>...</td>\n",
       "      <td>...</td>\n",
       "      <td>...</td>\n",
       "      <td>...</td>\n",
       "      <td>...</td>\n",
       "      <td>...</td>\n",
       "    </tr>\n",
       "    <tr>\n",
       "      <th>1875126</th>\n",
       "      <td>1875126</td>\n",
       "      <td>1.599047e+09</td>\n",
       "      <td>339</td>\n",
       "      <td>8</td>\n",
       "      <td>0</td>\n",
       "      <td>Normal</td>\n",
       "      <td>32</td>\n",
       "      <td>161</td>\n",
       "      <td>16</td>\n",
       "      <td>255</td>\n",
       "      <td>0</td>\n",
       "      <td>255</td>\n",
       "      <td>32</td>\n",
       "      <td>239</td>\n",
       "    </tr>\n",
       "    <tr>\n",
       "      <th>1875127</th>\n",
       "      <td>1875127</td>\n",
       "      <td>1.599047e+09</td>\n",
       "      <td>544</td>\n",
       "      <td>8</td>\n",
       "      <td>0</td>\n",
       "      <td>Normal</td>\n",
       "      <td>16</td>\n",
       "      <td>36</td>\n",
       "      <td>127</td>\n",
       "      <td>116</td>\n",
       "      <td>3</td>\n",
       "      <td>255</td>\n",
       "      <td>191</td>\n",
       "      <td>113</td>\n",
       "    </tr>\n",
       "    <tr>\n",
       "      <th>1875128</th>\n",
       "      <td>1875128</td>\n",
       "      <td>1.599047e+09</td>\n",
       "      <td>809</td>\n",
       "      <td>8</td>\n",
       "      <td>0</td>\n",
       "      <td>Normal</td>\n",
       "      <td>214</td>\n",
       "      <td>191</td>\n",
       "      <td>126</td>\n",
       "      <td>140</td>\n",
       "      <td>50</td>\n",
       "      <td>43</td>\n",
       "      <td>0</td>\n",
       "      <td>16</td>\n",
       "    </tr>\n",
       "    <tr>\n",
       "      <th>1875129</th>\n",
       "      <td>1875129</td>\n",
       "      <td>1.599047e+09</td>\n",
       "      <td>1151</td>\n",
       "      <td>8</td>\n",
       "      <td>0</td>\n",
       "      <td>Normal</td>\n",
       "      <td>4</td>\n",
       "      <td>224</td>\n",
       "      <td>255</td>\n",
       "      <td>255</td>\n",
       "      <td>0</td>\n",
       "      <td>123</td>\n",
       "      <td>0</td>\n",
       "      <td>87</td>\n",
       "    </tr>\n",
       "    <tr>\n",
       "      <th>1875130</th>\n",
       "      <td>1875130</td>\n",
       "      <td>1.599047e+09</td>\n",
       "      <td>1162</td>\n",
       "      <td>8</td>\n",
       "      <td>0</td>\n",
       "      <td>Normal</td>\n",
       "      <td>0</td>\n",
       "      <td>0</td>\n",
       "      <td>7</td>\n",
       "      <td>65</td>\n",
       "      <td>3</td>\n",
       "      <td>2</td>\n",
       "      <td>96</td>\n",
       "      <td>136</td>\n",
       "    </tr>\n",
       "  </tbody>\n",
       "</table>\n",
       "<p>1875131 rows × 14 columns</p>\n",
       "</div>"
      ],
      "text/plain": [
       "         Unnamed: 0     Timestamp  Arbitration_ID  DLC  Class SubClass  \\\n",
       "0                 0  1.597708e+09             608    8      0   Normal   \n",
       "1                 1  1.597708e+09             809    8      0   Normal   \n",
       "2                 2  1.597708e+09             909    8      0   Normal   \n",
       "3                 3  1.597708e+09            1056    8      0   Normal   \n",
       "4                 4  1.597708e+09            1057    8      0   Normal   \n",
       "...             ...           ...             ...  ...    ...      ...   \n",
       "1875126     1875126  1.599047e+09             339    8      0   Normal   \n",
       "1875127     1875127  1.599047e+09             544    8      0   Normal   \n",
       "1875128     1875128  1.599047e+09             809    8      0   Normal   \n",
       "1875129     1875129  1.599047e+09            1151    8      0   Normal   \n",
       "1875130     1875130  1.599047e+09            1162    8      0   Normal   \n",
       "\n",
       "         Data[0]  Data[1]  Data[2]  Data[3]  Data[4]  Data[5]  Data[6]  \\\n",
       "0              6       37        5       48      255      207      113   \n",
       "1             74      197      126      140       49       45        1   \n",
       "2              0        0       73        0      144      127      254   \n",
       "3             80       30        0      200      252       79      106   \n",
       "4            254        7        0      255      227      127        0   \n",
       "...          ...      ...      ...      ...      ...      ...      ...   \n",
       "1875126       32      161       16      255        0      255       32   \n",
       "1875127       16       36      127      116        3      255      191   \n",
       "1875128      214      191      126      140       50       43        0   \n",
       "1875129        4      224      255      255        0      123        0   \n",
       "1875130        0        0        7       65        3        2       96   \n",
       "\n",
       "         Data[7]  \n",
       "0             85  \n",
       "1             16  \n",
       "2              1  \n",
       "3              0  \n",
       "4             82  \n",
       "...          ...  \n",
       "1875126      239  \n",
       "1875127      113  \n",
       "1875128       16  \n",
       "1875129       87  \n",
       "1875130      136  \n",
       "\n",
       "[1875131 rows x 14 columns]"
      ]
     },
     "execution_count": 4,
     "metadata": {},
     "output_type": "execute_result"
    }
   ],
   "source": [
    "path  = \"D:\\\\Thesis\\\\codes\\\\NESLIDS\\\\pre_d_df.csv\"\n",
    "d_df = pd.read_csv(path)\n",
    "d_df"
   ]
  },
  {
   "cell_type": "code",
   "execution_count": 5,
   "metadata": {},
   "outputs": [
    {
     "data": {
      "text/plain": [
       "0    1724630\n",
       "1     150501\n",
       "Name: Class, dtype: int64"
      ]
     },
     "execution_count": 5,
     "metadata": {},
     "output_type": "execute_result"
    }
   ],
   "source": [
    "d_df['Class'].value_counts()"
   ]
  },
  {
   "cell_type": "code",
   "execution_count": 6,
   "metadata": {},
   "outputs": [],
   "source": [
    "Y_Data = d_df[\"Class\"]\n",
    "X_Data = d_df.drop([\"Class\",\"SubClass\",\"Unnamed: 0\"], axis=1)"
   ]
  },
  {
   "cell_type": "code",
   "execution_count": 7,
   "metadata": {},
   "outputs": [],
   "source": [
    "X_Data = X_Data.to_numpy()\n",
    "Y_Data = Y_Data.to_numpy()"
   ]
  },
  {
   "cell_type": "code",
   "execution_count": 8,
   "metadata": {},
   "outputs": [],
   "source": [
    "for i in range(0,X_Data.shape[0]):\n",
    "    for j in range(0,11):\n",
    "        if isinstance(X_Data[i][j], str):\n",
    "            print(i)\n",
    "            print(j)\n",
    "            print(\"**\")"
   ]
  },
  {
   "cell_type": "code",
   "execution_count": 9,
   "metadata": {},
   "outputs": [],
   "source": [
    "X_Train, X_Test, Y_Train, Y_Test = train_test_split(X_Data, Y_Data ,test_size=0.3 ,random_state=42, shuffle=False)"
   ]
  },
  {
   "cell_type": "code",
   "execution_count": 10,
   "metadata": {},
   "outputs": [],
   "source": [
    "#Y_Train = to_categorical(Y_Train_, num_classes=2)\n",
    "#Y_Test = to_categorical(Y_Test_, num_classes=2)"
   ]
  },
  {
   "cell_type": "code",
   "execution_count": 11,
   "metadata": {},
   "outputs": [],
   "source": [
    "for i in range(0,X_Train.shape[0]):\n",
    "    for j in range(0,11):\n",
    "        if isinstance(X_Train[i][j], str):\n",
    "            print(i)\n",
    "            print(j)\n",
    "            print(\"**\")"
   ]
  },
  {
   "cell_type": "code",
   "execution_count": 12,
   "metadata": {},
   "outputs": [],
   "source": [
    "X_Train = np.asarray(X_Train).astype('float32')\n",
    "Y_Train = np.asarray(Y_Train).astype('float32')\n",
    "X_Test = np.asarray(X_Test).astype('float32')\n",
    "Y_Test = np.asarray(Y_Test).astype('float32')"
   ]
  },
  {
   "cell_type": "code",
   "execution_count": 13,
   "metadata": {},
   "outputs": [
    {
     "name": "stdout",
     "output_type": "stream",
     "text": [
      "(1312591, 11) (562540, 11)\n",
      "(1312591,) (562540,)\n"
     ]
    }
   ],
   "source": [
    "print(X_Train.shape, X_Test.shape)\n",
    "print(Y_Train.shape, Y_Test.shape)"
   ]
  },
  {
   "cell_type": "code",
   "execution_count": 14,
   "metadata": {},
   "outputs": [],
   "source": [
    "from keras.models import Sequential\n",
    "from keras.layers import Dense, Activation"
   ]
  },
  {
   "cell_type": "code",
   "execution_count": 15,
   "metadata": {},
   "outputs": [],
   "source": [
    "model = Sequential()\n",
    "model.add(Input(shape=(11,)))  # Input layer\n",
    "model.add(Dense(15, activation='relu'))\n",
    "model.add(Dropout(rate=0.1))  # Dropout layer with 10% dropout rate\n",
    "\n",
    "model.add(Dense(15, activation='relu'))\n",
    "model.add(Dropout(rate=0.1))  # Dropout layer with 10% dropout rate\n",
    "\n",
    "model.add(Dense(units=1, activation='sigmoid'))  # Output layer"
   ]
  },
  {
   "cell_type": "code",
   "execution_count": 16,
   "metadata": {},
   "outputs": [
    {
     "data": {
      "text/html": [
       "<pre style=\"white-space:pre;overflow-x:auto;line-height:normal;font-family:Menlo,'DejaVu Sans Mono',consolas,'Courier New',monospace\"><span style=\"font-weight: bold\">Model: \"sequential\"</span>\n",
       "</pre>\n"
      ],
      "text/plain": [
       "\u001b[1mModel: \"sequential\"\u001b[0m\n"
      ]
     },
     "metadata": {},
     "output_type": "display_data"
    },
    {
     "data": {
      "text/html": [
       "<pre style=\"white-space:pre;overflow-x:auto;line-height:normal;font-family:Menlo,'DejaVu Sans Mono',consolas,'Courier New',monospace\">┏━━━━━━━━━━━━━━━━━━━━━━━━━━━━━━━━━┳━━━━━━━━━━━━━━━━━━━━━━━━━━━┳━━━━━━━━━━━━┓\n",
       "┃<span style=\"font-weight: bold\"> Layer (type)                    </span>┃<span style=\"font-weight: bold\"> Output Shape              </span>┃<span style=\"font-weight: bold\">    Param # </span>┃\n",
       "┡━━━━━━━━━━━━━━━━━━━━━━━━━━━━━━━━━╇━━━━━━━━━━━━━━━━━━━━━━━━━━━╇━━━━━━━━━━━━┩\n",
       "│ dense (<span style=\"color: #0087ff; text-decoration-color: #0087ff\">Dense</span>)                   │ (<span style=\"color: #00d7ff; text-decoration-color: #00d7ff\">None</span>, <span style=\"color: #00af00; text-decoration-color: #00af00\">15</span>)                │        <span style=\"color: #00af00; text-decoration-color: #00af00\">180</span> │\n",
       "├─────────────────────────────────┼───────────────────────────┼────────────┤\n",
       "│ dropout (<span style=\"color: #0087ff; text-decoration-color: #0087ff\">Dropout</span>)               │ (<span style=\"color: #00d7ff; text-decoration-color: #00d7ff\">None</span>, <span style=\"color: #00af00; text-decoration-color: #00af00\">15</span>)                │          <span style=\"color: #00af00; text-decoration-color: #00af00\">0</span> │\n",
       "├─────────────────────────────────┼───────────────────────────┼────────────┤\n",
       "│ dense_1 (<span style=\"color: #0087ff; text-decoration-color: #0087ff\">Dense</span>)                 │ (<span style=\"color: #00d7ff; text-decoration-color: #00d7ff\">None</span>, <span style=\"color: #00af00; text-decoration-color: #00af00\">15</span>)                │        <span style=\"color: #00af00; text-decoration-color: #00af00\">240</span> │\n",
       "├─────────────────────────────────┼───────────────────────────┼────────────┤\n",
       "│ dropout_1 (<span style=\"color: #0087ff; text-decoration-color: #0087ff\">Dropout</span>)             │ (<span style=\"color: #00d7ff; text-decoration-color: #00d7ff\">None</span>, <span style=\"color: #00af00; text-decoration-color: #00af00\">15</span>)                │          <span style=\"color: #00af00; text-decoration-color: #00af00\">0</span> │\n",
       "├─────────────────────────────────┼───────────────────────────┼────────────┤\n",
       "│ dense_2 (<span style=\"color: #0087ff; text-decoration-color: #0087ff\">Dense</span>)                 │ (<span style=\"color: #00d7ff; text-decoration-color: #00d7ff\">None</span>, <span style=\"color: #00af00; text-decoration-color: #00af00\">1</span>)                 │         <span style=\"color: #00af00; text-decoration-color: #00af00\">16</span> │\n",
       "└─────────────────────────────────┴───────────────────────────┴────────────┘\n",
       "</pre>\n"
      ],
      "text/plain": [
       "┏━━━━━━━━━━━━━━━━━━━━━━━━━━━━━━━━━┳━━━━━━━━━━━━━━━━━━━━━━━━━━━┳━━━━━━━━━━━━┓\n",
       "┃\u001b[1m \u001b[0m\u001b[1mLayer (type)                   \u001b[0m\u001b[1m \u001b[0m┃\u001b[1m \u001b[0m\u001b[1mOutput Shape             \u001b[0m\u001b[1m \u001b[0m┃\u001b[1m \u001b[0m\u001b[1m   Param #\u001b[0m\u001b[1m \u001b[0m┃\n",
       "┡━━━━━━━━━━━━━━━━━━━━━━━━━━━━━━━━━╇━━━━━━━━━━━━━━━━━━━━━━━━━━━╇━━━━━━━━━━━━┩\n",
       "│ dense (\u001b[38;5;33mDense\u001b[0m)                   │ (\u001b[38;5;45mNone\u001b[0m, \u001b[38;5;34m15\u001b[0m)                │        \u001b[38;5;34m180\u001b[0m │\n",
       "├─────────────────────────────────┼───────────────────────────┼────────────┤\n",
       "│ dropout (\u001b[38;5;33mDropout\u001b[0m)               │ (\u001b[38;5;45mNone\u001b[0m, \u001b[38;5;34m15\u001b[0m)                │          \u001b[38;5;34m0\u001b[0m │\n",
       "├─────────────────────────────────┼───────────────────────────┼────────────┤\n",
       "│ dense_1 (\u001b[38;5;33mDense\u001b[0m)                 │ (\u001b[38;5;45mNone\u001b[0m, \u001b[38;5;34m15\u001b[0m)                │        \u001b[38;5;34m240\u001b[0m │\n",
       "├─────────────────────────────────┼───────────────────────────┼────────────┤\n",
       "│ dropout_1 (\u001b[38;5;33mDropout\u001b[0m)             │ (\u001b[38;5;45mNone\u001b[0m, \u001b[38;5;34m15\u001b[0m)                │          \u001b[38;5;34m0\u001b[0m │\n",
       "├─────────────────────────────────┼───────────────────────────┼────────────┤\n",
       "│ dense_2 (\u001b[38;5;33mDense\u001b[0m)                 │ (\u001b[38;5;45mNone\u001b[0m, \u001b[38;5;34m1\u001b[0m)                 │         \u001b[38;5;34m16\u001b[0m │\n",
       "└─────────────────────────────────┴───────────────────────────┴────────────┘\n"
      ]
     },
     "metadata": {},
     "output_type": "display_data"
    },
    {
     "data": {
      "text/html": [
       "<pre style=\"white-space:pre;overflow-x:auto;line-height:normal;font-family:Menlo,'DejaVu Sans Mono',consolas,'Courier New',monospace\"><span style=\"font-weight: bold\"> Total params: </span><span style=\"color: #00af00; text-decoration-color: #00af00\">436</span> (1.70 KB)\n",
       "</pre>\n"
      ],
      "text/plain": [
       "\u001b[1m Total params: \u001b[0m\u001b[38;5;34m436\u001b[0m (1.70 KB)\n"
      ]
     },
     "metadata": {},
     "output_type": "display_data"
    },
    {
     "data": {
      "text/html": [
       "<pre style=\"white-space:pre;overflow-x:auto;line-height:normal;font-family:Menlo,'DejaVu Sans Mono',consolas,'Courier New',monospace\"><span style=\"font-weight: bold\"> Trainable params: </span><span style=\"color: #00af00; text-decoration-color: #00af00\">436</span> (1.70 KB)\n",
       "</pre>\n"
      ],
      "text/plain": [
       "\u001b[1m Trainable params: \u001b[0m\u001b[38;5;34m436\u001b[0m (1.70 KB)\n"
      ]
     },
     "metadata": {},
     "output_type": "display_data"
    },
    {
     "data": {
      "text/html": [
       "<pre style=\"white-space:pre;overflow-x:auto;line-height:normal;font-family:Menlo,'DejaVu Sans Mono',consolas,'Courier New',monospace\"><span style=\"font-weight: bold\"> Non-trainable params: </span><span style=\"color: #00af00; text-decoration-color: #00af00\">0</span> (0.00 B)\n",
       "</pre>\n"
      ],
      "text/plain": [
       "\u001b[1m Non-trainable params: \u001b[0m\u001b[38;5;34m0\u001b[0m (0.00 B)\n"
      ]
     },
     "metadata": {},
     "output_type": "display_data"
    }
   ],
   "source": [
    "model.summary()"
   ]
  },
  {
   "cell_type": "code",
   "execution_count": 17,
   "metadata": {},
   "outputs": [],
   "source": [
    "model.compile(loss=\"binary_crossentropy\",\n",
    "              optimizer=\"adam\",\n",
    "              metrics = ['accuracy'])"
   ]
  },
  {
   "cell_type": "code",
   "execution_count": 18,
   "metadata": {},
   "outputs": [
    {
     "data": {
      "text/plain": [
       "(1312591,)"
      ]
     },
     "execution_count": 18,
     "metadata": {},
     "output_type": "execute_result"
    }
   ],
   "source": [
    "X_Train.shape\n",
    "Y_Train.shape"
   ]
  },
  {
   "cell_type": "code",
   "execution_count": 26,
   "metadata": {},
   "outputs": [
    {
     "name": "stdout",
     "output_type": "stream",
     "text": [
      "Epoch 1/3\n"
     ]
    },
    {
     "name": "stdout",
     "output_type": "stream",
     "text": [
      "\u001b[1m41019/41019\u001b[0m \u001b[32m━━━━━━━━━━━━━━━━━━━━\u001b[0m\u001b[37m\u001b[0m \u001b[1m43s\u001b[0m 1ms/step - accuracy: 0.1191 - loss: 14.0447\n",
      "Epoch 2/3\n",
      "\u001b[1m41019/41019\u001b[0m \u001b[32m━━━━━━━━━━━━━━━━━━━━\u001b[0m\u001b[37m\u001b[0m \u001b[1m44s\u001b[0m 1ms/step - accuracy: 0.1193 - loss: 14.0413\n",
      "Epoch 3/3\n",
      "\u001b[1m41019/41019\u001b[0m \u001b[32m━━━━━━━━━━━━━━━━━━━━\u001b[0m\u001b[37m\u001b[0m \u001b[1m41s\u001b[0m 1ms/step - accuracy: 0.1192 - loss: 14.0420\n"
     ]
    },
    {
     "data": {
      "text/plain": [
       "<keras.src.callbacks.history.History at 0x213c3fa2950>"
      ]
     },
     "execution_count": 26,
     "metadata": {},
     "output_type": "execute_result"
    }
   ],
   "source": [
    "model.fit(X_Train, Y_Train, batch_size=32, epochs=3, verbose=1, shuffle=True)"
   ]
  },
  {
   "cell_type": "code",
   "execution_count": 27,
   "metadata": {},
   "outputs": [],
   "source": [
    "#test_loss, test_acc = model.evadeluate(X_Test, Y_Test)\n",
    "#print('Test accuracy:', round(test_acc,4))"
   ]
  },
  {
   "cell_type": "code",
   "execution_count": 28,
   "metadata": {},
   "outputs": [
    {
     "name": "stdout",
     "output_type": "stream",
     "text": [
      "\u001b[1m17580/17580\u001b[0m \u001b[32m━━━━━━━━━━━━━━━━━━━━\u001b[0m\u001b[37m\u001b[0m \u001b[1m14s\u001b[0m 771us/step\n"
     ]
    },
    {
     "data": {
      "text/plain": [
       "array([[1.],\n",
       "       [1.],\n",
       "       [1.],\n",
       "       ...,\n",
       "       [1.],\n",
       "       [1.],\n",
       "       [1.]], dtype=float32)"
      ]
     },
     "execution_count": 28,
     "metadata": {},
     "output_type": "execute_result"
    }
   ],
   "source": [
    "predictions = model.predict(X_Test)\n",
    "predictions"
   ]
  },
  {
   "cell_type": "code",
   "execution_count": 29,
   "metadata": {},
   "outputs": [
    {
     "name": "stdout",
     "output_type": "stream",
     "text": [
      "(562540,)\n"
     ]
    }
   ],
   "source": [
    "# Convert probabilities to class labels\n",
    "predicted_classes = np.argmax(predictions, axis=1)\n",
    "print(predicted_classes.shape)"
   ]
  },
  {
   "cell_type": "code",
   "execution_count": 30,
   "metadata": {},
   "outputs": [],
   "source": [
    "report = []"
   ]
  },
  {
   "cell_type": "code",
   "execution_count": 31,
   "metadata": {},
   "outputs": [
    {
     "name": "stderr",
     "output_type": "stream",
     "text": [
      "c:\\Users\\QOMASUS.COM\\anaconda3\\Lib\\site-packages\\sklearn\\metrics\\_classification.py:1509: UndefinedMetricWarning: Precision is ill-defined and being set to 0.0 due to no predicted samples. Use `zero_division` parameter to control this behavior.\n",
      "  _warn_prf(average, modifier, f\"{metric.capitalize()} is\", len(result))\n"
     ]
    },
    {
     "name": "stdout",
     "output_type": "stream",
     "text": [
      "FNR:\n",
      "1.0\n",
      "ER:\n",
      "0.09431151562555551\n",
      "Precision:\n",
      "0.0\n",
      "Recall:\n",
      "0.0\n",
      "F-1 Score:\n",
      "0.0\n",
      "accuracy\n",
      "0.9056884843744445\n"
     ]
    }
   ],
   "source": [
    "d = list(eval(Y_Test,predicted_classes))\n",
    "d.insert(0,\"Simple DNN\")\n",
    "report.append(d)"
   ]
  },
  {
   "cell_type": "code",
   "execution_count": 32,
   "metadata": {},
   "outputs": [
    {
     "data": {
      "text/html": [
       "<div>\n",
       "<style scoped>\n",
       "    .dataframe tbody tr th:only-of-type {\n",
       "        vertical-align: middle;\n",
       "    }\n",
       "\n",
       "    .dataframe tbody tr th {\n",
       "        vertical-align: top;\n",
       "    }\n",
       "\n",
       "    .dataframe thead th {\n",
       "        text-align: right;\n",
       "    }\n",
       "</style>\n",
       "<table border=\"1\" class=\"dataframe\">\n",
       "  <thead>\n",
       "    <tr style=\"text-align: right;\">\n",
       "      <th></th>\n",
       "      <th>Method</th>\n",
       "      <th>FNR</th>\n",
       "      <th>ER</th>\n",
       "      <th>Precision</th>\n",
       "      <th>Recall</th>\n",
       "      <th>F-1 Score</th>\n",
       "      <th>Accuracy</th>\n",
       "    </tr>\n",
       "  </thead>\n",
       "  <tbody>\n",
       "    <tr>\n",
       "      <th>0</th>\n",
       "      <td>Simple DNN</td>\n",
       "      <td>1.0</td>\n",
       "      <td>0.094312</td>\n",
       "      <td>0.0</td>\n",
       "      <td>0.0</td>\n",
       "      <td>0.0</td>\n",
       "      <td>0.905688</td>\n",
       "    </tr>\n",
       "  </tbody>\n",
       "</table>\n",
       "</div>"
      ],
      "text/plain": [
       "       Method  FNR        ER  Precision  Recall  F-1 Score  Accuracy\n",
       "0  Simple DNN  1.0  0.094312        0.0     0.0        0.0  0.905688"
      ]
     },
     "execution_count": 32,
     "metadata": {},
     "output_type": "execute_result"
    }
   ],
   "source": [
    "##############################Report##################################\n",
    "\n",
    "report_df = pd.DataFrame(report, columns=['Method', 'FNR', 'ER', 'Precision', 'Recall', 'F-1 Score', 'Accuracy'])\n",
    "report_df"
   ]
  },
  {
   "cell_type": "code",
   "execution_count": null,
   "metadata": {},
   "outputs": [],
   "source": [
    "the same results"
   ]
  },
  {
   "cell_type": "code",
   "execution_count": null,
   "metadata": {},
   "outputs": [],
   "source": []
  },
  {
   "cell_type": "code",
   "execution_count": null,
   "metadata": {},
   "outputs": [],
   "source": []
  },
  {
   "cell_type": "code",
   "execution_count": null,
   "metadata": {},
   "outputs": [],
   "source": []
  }
 ],
 "metadata": {
  "kernelspec": {
   "display_name": "Python 3",
   "language": "python",
   "name": "python3"
  },
  "language_info": {
   "codemirror_mode": {
    "name": "ipython",
    "version": 3
   },
   "file_extension": ".py",
   "mimetype": "text/x-python",
   "name": "python",
   "nbconvert_exporter": "python",
   "pygments_lexer": "ipython3",
   "version": "3.11.3"
  }
 },
 "nbformat": 4,
 "nbformat_minor": 2
}
