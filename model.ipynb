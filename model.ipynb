{
 "cells": [
  {
   "cell_type": "code",
   "execution_count": 1,
   "metadata": {},
   "outputs": [],
   "source": [
    "#In the name of GOD"
   ]
  },
  {
   "cell_type": "code",
   "execution_count": 2,
   "metadata": {},
   "outputs": [],
   "source": [
    "import pandas as pd\n",
    "from sklearn.model_selection import train_test_split\n",
    "import glob\n",
    "import pandas as pd\n",
    "import numpy as np\n",
    "from keras.utils import to_categorical\n",
    "from keras.layers import Input\n",
    "from keras.layers import Dropout"
   ]
  },
  {
   "cell_type": "code",
   "execution_count": 3,
   "metadata": {},
   "outputs": [],
   "source": [
    "def eval(y_true, y_pred):\n",
    "    global p\n",
    "    global r\n",
    "    global f_1\n",
    "    global a\n",
    "    global fnr\n",
    "    global er_rate\n",
    "    from sklearn.metrics import fbeta_score\n",
    "    from sklearn.metrics import f1_score\n",
    "    from sklearn.metrics import precision_score\n",
    "    from sklearn.metrics import recall_score\n",
    "    from sklearn.metrics import accuracy_score\n",
    "\n",
    "    p = precision_score(y_true, y_pred)\n",
    "    r = recall_score(y_true, y_pred)\n",
    "    #f_2 = fbeta_score(y_true, y_pred, beta=2.0)\n",
    "    f_1 = f1_score(y_true, y_pred)\n",
    "    a = accuracy_score(y_true, y_pred)\n",
    "    #for binary classification :    FNR = 1 - TPR and TPR = recall \n",
    "    #                               error rate = 1 - accuracy = 1 - (# classified correct) / (# classified total) \n",
    "\n",
    "    fnr = 1 - r\n",
    "    er_rate = 1 - a\n",
    "\n",
    "\n",
    "   \n",
    "\n",
    "    print(\"FNR:\")\n",
    "    print(fnr)\n",
    "    print(\"ER:\")\n",
    "    print(er_rate)\n",
    "    print(\"Precision:\")\n",
    "    print(p)\n",
    "    print(\"Recall:\")\n",
    "    print(r)\n",
    "    print(\"F-1 Score:\")\n",
    "    print(f_1)\n",
    "    print(\"accuracy\")\n",
    "    print(a)\n",
    "\n",
    "\n",
    "\n",
    "    return fnr, er_rate, p, r, f_1, a"
   ]
  },
  {
   "cell_type": "code",
   "execution_count": 4,
   "metadata": {},
   "outputs": [
    {
     "data": {
      "text/html": [
       "<div>\n",
       "<style scoped>\n",
       "    .dataframe tbody tr th:only-of-type {\n",
       "        vertical-align: middle;\n",
       "    }\n",
       "\n",
       "    .dataframe tbody tr th {\n",
       "        vertical-align: top;\n",
       "    }\n",
       "\n",
       "    .dataframe thead th {\n",
       "        text-align: right;\n",
       "    }\n",
       "</style>\n",
       "<table border=\"1\" class=\"dataframe\">\n",
       "  <thead>\n",
       "    <tr style=\"text-align: right;\">\n",
       "      <th></th>\n",
       "      <th>Unnamed: 0</th>\n",
       "      <th>Timestamp</th>\n",
       "      <th>Arbitration_ID</th>\n",
       "      <th>DLC</th>\n",
       "      <th>Class</th>\n",
       "      <th>SubClass</th>\n",
       "      <th>Data[0]</th>\n",
       "      <th>Data[1]</th>\n",
       "      <th>Data[2]</th>\n",
       "      <th>Data[3]</th>\n",
       "      <th>Data[4]</th>\n",
       "      <th>Data[5]</th>\n",
       "      <th>Data[6]</th>\n",
       "      <th>Data[7]</th>\n",
       "    </tr>\n",
       "  </thead>\n",
       "  <tbody>\n",
       "    <tr>\n",
       "      <th>0</th>\n",
       "      <td>0</td>\n",
       "      <td>1.597708e+09</td>\n",
       "      <td>608</td>\n",
       "      <td>8</td>\n",
       "      <td>0</td>\n",
       "      <td>Normal</td>\n",
       "      <td>6</td>\n",
       "      <td>37</td>\n",
       "      <td>5</td>\n",
       "      <td>48</td>\n",
       "      <td>255</td>\n",
       "      <td>207</td>\n",
       "      <td>113</td>\n",
       "      <td>85</td>\n",
       "    </tr>\n",
       "    <tr>\n",
       "      <th>1</th>\n",
       "      <td>1</td>\n",
       "      <td>1.597708e+09</td>\n",
       "      <td>809</td>\n",
       "      <td>8</td>\n",
       "      <td>0</td>\n",
       "      <td>Normal</td>\n",
       "      <td>74</td>\n",
       "      <td>197</td>\n",
       "      <td>126</td>\n",
       "      <td>140</td>\n",
       "      <td>49</td>\n",
       "      <td>45</td>\n",
       "      <td>1</td>\n",
       "      <td>16</td>\n",
       "    </tr>\n",
       "    <tr>\n",
       "      <th>2</th>\n",
       "      <td>2</td>\n",
       "      <td>1.597708e+09</td>\n",
       "      <td>909</td>\n",
       "      <td>8</td>\n",
       "      <td>0</td>\n",
       "      <td>Normal</td>\n",
       "      <td>0</td>\n",
       "      <td>0</td>\n",
       "      <td>73</td>\n",
       "      <td>0</td>\n",
       "      <td>144</td>\n",
       "      <td>127</td>\n",
       "      <td>254</td>\n",
       "      <td>1</td>\n",
       "    </tr>\n",
       "    <tr>\n",
       "      <th>3</th>\n",
       "      <td>3</td>\n",
       "      <td>1.597708e+09</td>\n",
       "      <td>1056</td>\n",
       "      <td>8</td>\n",
       "      <td>0</td>\n",
       "      <td>Normal</td>\n",
       "      <td>80</td>\n",
       "      <td>30</td>\n",
       "      <td>0</td>\n",
       "      <td>200</td>\n",
       "      <td>252</td>\n",
       "      <td>79</td>\n",
       "      <td>106</td>\n",
       "      <td>0</td>\n",
       "    </tr>\n",
       "    <tr>\n",
       "      <th>4</th>\n",
       "      <td>4</td>\n",
       "      <td>1.597708e+09</td>\n",
       "      <td>1057</td>\n",
       "      <td>8</td>\n",
       "      <td>0</td>\n",
       "      <td>Normal</td>\n",
       "      <td>254</td>\n",
       "      <td>7</td>\n",
       "      <td>0</td>\n",
       "      <td>255</td>\n",
       "      <td>227</td>\n",
       "      <td>127</td>\n",
       "      <td>0</td>\n",
       "      <td>82</td>\n",
       "    </tr>\n",
       "    <tr>\n",
       "      <th>...</th>\n",
       "      <td>...</td>\n",
       "      <td>...</td>\n",
       "      <td>...</td>\n",
       "      <td>...</td>\n",
       "      <td>...</td>\n",
       "      <td>...</td>\n",
       "      <td>...</td>\n",
       "      <td>...</td>\n",
       "      <td>...</td>\n",
       "      <td>...</td>\n",
       "      <td>...</td>\n",
       "      <td>...</td>\n",
       "      <td>...</td>\n",
       "      <td>...</td>\n",
       "    </tr>\n",
       "    <tr>\n",
       "      <th>1875126</th>\n",
       "      <td>1875126</td>\n",
       "      <td>1.599047e+09</td>\n",
       "      <td>339</td>\n",
       "      <td>8</td>\n",
       "      <td>0</td>\n",
       "      <td>Normal</td>\n",
       "      <td>32</td>\n",
       "      <td>161</td>\n",
       "      <td>16</td>\n",
       "      <td>255</td>\n",
       "      <td>0</td>\n",
       "      <td>255</td>\n",
       "      <td>32</td>\n",
       "      <td>239</td>\n",
       "    </tr>\n",
       "    <tr>\n",
       "      <th>1875127</th>\n",
       "      <td>1875127</td>\n",
       "      <td>1.599047e+09</td>\n",
       "      <td>544</td>\n",
       "      <td>8</td>\n",
       "      <td>0</td>\n",
       "      <td>Normal</td>\n",
       "      <td>16</td>\n",
       "      <td>36</td>\n",
       "      <td>127</td>\n",
       "      <td>116</td>\n",
       "      <td>3</td>\n",
       "      <td>255</td>\n",
       "      <td>191</td>\n",
       "      <td>113</td>\n",
       "    </tr>\n",
       "    <tr>\n",
       "      <th>1875128</th>\n",
       "      <td>1875128</td>\n",
       "      <td>1.599047e+09</td>\n",
       "      <td>809</td>\n",
       "      <td>8</td>\n",
       "      <td>0</td>\n",
       "      <td>Normal</td>\n",
       "      <td>214</td>\n",
       "      <td>191</td>\n",
       "      <td>126</td>\n",
       "      <td>140</td>\n",
       "      <td>50</td>\n",
       "      <td>43</td>\n",
       "      <td>0</td>\n",
       "      <td>16</td>\n",
       "    </tr>\n",
       "    <tr>\n",
       "      <th>1875129</th>\n",
       "      <td>1875129</td>\n",
       "      <td>1.599047e+09</td>\n",
       "      <td>1151</td>\n",
       "      <td>8</td>\n",
       "      <td>0</td>\n",
       "      <td>Normal</td>\n",
       "      <td>4</td>\n",
       "      <td>224</td>\n",
       "      <td>255</td>\n",
       "      <td>255</td>\n",
       "      <td>0</td>\n",
       "      <td>123</td>\n",
       "      <td>0</td>\n",
       "      <td>87</td>\n",
       "    </tr>\n",
       "    <tr>\n",
       "      <th>1875130</th>\n",
       "      <td>1875130</td>\n",
       "      <td>1.599047e+09</td>\n",
       "      <td>1162</td>\n",
       "      <td>8</td>\n",
       "      <td>0</td>\n",
       "      <td>Normal</td>\n",
       "      <td>0</td>\n",
       "      <td>0</td>\n",
       "      <td>7</td>\n",
       "      <td>65</td>\n",
       "      <td>3</td>\n",
       "      <td>2</td>\n",
       "      <td>96</td>\n",
       "      <td>136</td>\n",
       "    </tr>\n",
       "  </tbody>\n",
       "</table>\n",
       "<p>1875131 rows × 14 columns</p>\n",
       "</div>"
      ],
      "text/plain": [
       "         Unnamed: 0     Timestamp  Arbitration_ID  DLC  Class SubClass  \\\n",
       "0                 0  1.597708e+09             608    8      0   Normal   \n",
       "1                 1  1.597708e+09             809    8      0   Normal   \n",
       "2                 2  1.597708e+09             909    8      0   Normal   \n",
       "3                 3  1.597708e+09            1056    8      0   Normal   \n",
       "4                 4  1.597708e+09            1057    8      0   Normal   \n",
       "...             ...           ...             ...  ...    ...      ...   \n",
       "1875126     1875126  1.599047e+09             339    8      0   Normal   \n",
       "1875127     1875127  1.599047e+09             544    8      0   Normal   \n",
       "1875128     1875128  1.599047e+09             809    8      0   Normal   \n",
       "1875129     1875129  1.599047e+09            1151    8      0   Normal   \n",
       "1875130     1875130  1.599047e+09            1162    8      0   Normal   \n",
       "\n",
       "         Data[0]  Data[1]  Data[2]  Data[3]  Data[4]  Data[5]  Data[6]  \\\n",
       "0              6       37        5       48      255      207      113   \n",
       "1             74      197      126      140       49       45        1   \n",
       "2              0        0       73        0      144      127      254   \n",
       "3             80       30        0      200      252       79      106   \n",
       "4            254        7        0      255      227      127        0   \n",
       "...          ...      ...      ...      ...      ...      ...      ...   \n",
       "1875126       32      161       16      255        0      255       32   \n",
       "1875127       16       36      127      116        3      255      191   \n",
       "1875128      214      191      126      140       50       43        0   \n",
       "1875129        4      224      255      255        0      123        0   \n",
       "1875130        0        0        7       65        3        2       96   \n",
       "\n",
       "         Data[7]  \n",
       "0             85  \n",
       "1             16  \n",
       "2              1  \n",
       "3              0  \n",
       "4             82  \n",
       "...          ...  \n",
       "1875126      239  \n",
       "1875127      113  \n",
       "1875128       16  \n",
       "1875129       87  \n",
       "1875130      136  \n",
       "\n",
       "[1875131 rows x 14 columns]"
      ]
     },
     "execution_count": 4,
     "metadata": {},
     "output_type": "execute_result"
    }
   ],
   "source": [
    "path  = \"D:\\\\Thesis\\\\codes\\\\NESLIDS\\\\pre_d_df.csv\"\n",
    "d_df = pd.read_csv(path)\n",
    "d_df"
   ]
  },
  {
   "cell_type": "code",
   "execution_count": 5,
   "metadata": {},
   "outputs": [
    {
     "data": {
      "text/plain": [
       "0    1724630\n",
       "1     150501\n",
       "Name: Class, dtype: int64"
      ]
     },
     "execution_count": 5,
     "metadata": {},
     "output_type": "execute_result"
    }
   ],
   "source": [
    "d_df['Class'].value_counts()"
   ]
  },
  {
   "cell_type": "code",
   "execution_count": 6,
   "metadata": {},
   "outputs": [],
   "source": [
    "Y_Data = d_df[\"Class\"]\n",
    "X_Data = d_df.drop([\"Class\",\"SubClass\",\"Unnamed: 0\"], axis=1)"
   ]
  },
  {
   "cell_type": "code",
   "execution_count": 7,
   "metadata": {},
   "outputs": [],
   "source": [
    "X_Data = X_Data.to_numpy()\n",
    "Y_Data = Y_Data.to_numpy()"
   ]
  },
  {
   "cell_type": "code",
   "execution_count": 8,
   "metadata": {},
   "outputs": [],
   "source": [
    "for i in range(0,X_Data.shape[0]):\n",
    "    for j in range(0,11):\n",
    "        if isinstance(X_Data[i][j], str):\n",
    "            print(i)\n",
    "            print(j)\n",
    "            print(\"**\")"
   ]
  },
  {
   "cell_type": "code",
   "execution_count": 9,
   "metadata": {},
   "outputs": [],
   "source": [
    "X_Train, X_Test, Y_Train, Y_Test = train_test_split(X_Data, Y_Data ,test_size=0.3 ,random_state=42, shuffle=False)"
   ]
  },
  {
   "cell_type": "code",
   "execution_count": 10,
   "metadata": {},
   "outputs": [],
   "source": [
    "#Y_Train = to_categorical(Y_Train_, num_classes=2)\n",
    "#Y_Test = to_categorical(Y_Test_, num_classes=2)"
   ]
  },
  {
   "cell_type": "code",
   "execution_count": 11,
   "metadata": {},
   "outputs": [],
   "source": [
    "for i in range(0,X_Train.shape[0]):\n",
    "    for j in range(0,11):\n",
    "        if isinstance(X_Train[i][j], str):\n",
    "            print(i)\n",
    "            print(j)\n",
    "            print(\"**\")"
   ]
  },
  {
   "cell_type": "code",
   "execution_count": 12,
   "metadata": {},
   "outputs": [],
   "source": [
    "X_Train = np.asarray(X_Train).astype('float32')\n",
    "Y_Train = np.asarray(Y_Train).astype('float32')\n",
    "X_Test = np.asarray(X_Test).astype('float32')\n",
    "Y_Test = np.asarray(Y_Test).astype('float32')"
   ]
  },
  {
   "cell_type": "code",
   "execution_count": 13,
   "metadata": {},
   "outputs": [
    {
     "name": "stdout",
     "output_type": "stream",
     "text": [
      "(1312591, 11) (562540, 11)\n",
      "(1312591,) (562540,)\n"
     ]
    }
   ],
   "source": [
    "print(X_Train.shape, X_Test.shape)\n",
    "print(Y_Train.shape, Y_Test.shape)"
   ]
  },
  {
   "cell_type": "code",
   "execution_count": 14,
   "metadata": {},
   "outputs": [],
   "source": [
    "from keras.models import Sequential\n",
    "from keras.layers import Dense, Activation"
   ]
  },
  {
   "cell_type": "code",
   "execution_count": 15,
   "metadata": {},
   "outputs": [],
   "source": [
    "model = Sequential()\n",
    "model.add(Input(shape=(11,)))  # Input layer\n",
    "model.add(Dense(15, activation='relu'))\n",
    "model.add(Dropout(rate=0.1))  # Dropout layer with 10% dropout rate\n",
    "\n",
    "model.add(Dense(15, activation='relu'))\n",
    "model.add(Dropout(rate=0.1))  # Dropout layer with 10% dropout rate\n",
    "\n",
    "model.add(Dense(units=1, activation='sigmoid'))  # Output layer"
   ]
  },
  {
   "cell_type": "code",
   "execution_count": 16,
   "metadata": {},
   "outputs": [
    {
     "data": {
      "text/html": [
       "<pre style=\"white-space:pre;overflow-x:auto;line-height:normal;font-family:Menlo,'DejaVu Sans Mono',consolas,'Courier New',monospace\"><span style=\"font-weight: bold\">Model: \"sequential\"</span>\n",
       "</pre>\n"
      ],
      "text/plain": [
       "\u001b[1mModel: \"sequential\"\u001b[0m\n"
      ]
     },
     "metadata": {},
     "output_type": "display_data"
    },
    {
     "data": {
      "text/html": [
       "<pre style=\"white-space:pre;overflow-x:auto;line-height:normal;font-family:Menlo,'DejaVu Sans Mono',consolas,'Courier New',monospace\">┏━━━━━━━━━━━━━━━━━━━━━━━━━━━━━━━━━┳━━━━━━━━━━━━━━━━━━━━━━━━━━━┳━━━━━━━━━━━━┓\n",
       "┃<span style=\"font-weight: bold\"> Layer (type)                    </span>┃<span style=\"font-weight: bold\"> Output Shape              </span>┃<span style=\"font-weight: bold\">    Param # </span>┃\n",
       "┡━━━━━━━━━━━━━━━━━━━━━━━━━━━━━━━━━╇━━━━━━━━━━━━━━━━━━━━━━━━━━━╇━━━━━━━━━━━━┩\n",
       "│ dense (<span style=\"color: #0087ff; text-decoration-color: #0087ff\">Dense</span>)                   │ (<span style=\"color: #00d7ff; text-decoration-color: #00d7ff\">None</span>, <span style=\"color: #00af00; text-decoration-color: #00af00\">15</span>)                │        <span style=\"color: #00af00; text-decoration-color: #00af00\">180</span> │\n",
       "├─────────────────────────────────┼───────────────────────────┼────────────┤\n",
       "│ dropout (<span style=\"color: #0087ff; text-decoration-color: #0087ff\">Dropout</span>)               │ (<span style=\"color: #00d7ff; text-decoration-color: #00d7ff\">None</span>, <span style=\"color: #00af00; text-decoration-color: #00af00\">15</span>)                │          <span style=\"color: #00af00; text-decoration-color: #00af00\">0</span> │\n",
       "├─────────────────────────────────┼───────────────────────────┼────────────┤\n",
       "│ dense_1 (<span style=\"color: #0087ff; text-decoration-color: #0087ff\">Dense</span>)                 │ (<span style=\"color: #00d7ff; text-decoration-color: #00d7ff\">None</span>, <span style=\"color: #00af00; text-decoration-color: #00af00\">15</span>)                │        <span style=\"color: #00af00; text-decoration-color: #00af00\">240</span> │\n",
       "├─────────────────────────────────┼───────────────────────────┼────────────┤\n",
       "│ dropout_1 (<span style=\"color: #0087ff; text-decoration-color: #0087ff\">Dropout</span>)             │ (<span style=\"color: #00d7ff; text-decoration-color: #00d7ff\">None</span>, <span style=\"color: #00af00; text-decoration-color: #00af00\">15</span>)                │          <span style=\"color: #00af00; text-decoration-color: #00af00\">0</span> │\n",
       "├─────────────────────────────────┼───────────────────────────┼────────────┤\n",
       "│ dense_2 (<span style=\"color: #0087ff; text-decoration-color: #0087ff\">Dense</span>)                 │ (<span style=\"color: #00d7ff; text-decoration-color: #00d7ff\">None</span>, <span style=\"color: #00af00; text-decoration-color: #00af00\">1</span>)                 │         <span style=\"color: #00af00; text-decoration-color: #00af00\">16</span> │\n",
       "└─────────────────────────────────┴───────────────────────────┴────────────┘\n",
       "</pre>\n"
      ],
      "text/plain": [
       "┏━━━━━━━━━━━━━━━━━━━━━━━━━━━━━━━━━┳━━━━━━━━━━━━━━━━━━━━━━━━━━━┳━━━━━━━━━━━━┓\n",
       "┃\u001b[1m \u001b[0m\u001b[1mLayer (type)                   \u001b[0m\u001b[1m \u001b[0m┃\u001b[1m \u001b[0m\u001b[1mOutput Shape             \u001b[0m\u001b[1m \u001b[0m┃\u001b[1m \u001b[0m\u001b[1m   Param #\u001b[0m\u001b[1m \u001b[0m┃\n",
       "┡━━━━━━━━━━━━━━━━━━━━━━━━━━━━━━━━━╇━━━━━━━━━━━━━━━━━━━━━━━━━━━╇━━━━━━━━━━━━┩\n",
       "│ dense (\u001b[38;5;33mDense\u001b[0m)                   │ (\u001b[38;5;45mNone\u001b[0m, \u001b[38;5;34m15\u001b[0m)                │        \u001b[38;5;34m180\u001b[0m │\n",
       "├─────────────────────────────────┼───────────────────────────┼────────────┤\n",
       "│ dropout (\u001b[38;5;33mDropout\u001b[0m)               │ (\u001b[38;5;45mNone\u001b[0m, \u001b[38;5;34m15\u001b[0m)                │          \u001b[38;5;34m0\u001b[0m │\n",
       "├─────────────────────────────────┼───────────────────────────┼────────────┤\n",
       "│ dense_1 (\u001b[38;5;33mDense\u001b[0m)                 │ (\u001b[38;5;45mNone\u001b[0m, \u001b[38;5;34m15\u001b[0m)                │        \u001b[38;5;34m240\u001b[0m │\n",
       "├─────────────────────────────────┼───────────────────────────┼────────────┤\n",
       "│ dropout_1 (\u001b[38;5;33mDropout\u001b[0m)             │ (\u001b[38;5;45mNone\u001b[0m, \u001b[38;5;34m15\u001b[0m)                │          \u001b[38;5;34m0\u001b[0m │\n",
       "├─────────────────────────────────┼───────────────────────────┼────────────┤\n",
       "│ dense_2 (\u001b[38;5;33mDense\u001b[0m)                 │ (\u001b[38;5;45mNone\u001b[0m, \u001b[38;5;34m1\u001b[0m)                 │         \u001b[38;5;34m16\u001b[0m │\n",
       "└─────────────────────────────────┴───────────────────────────┴────────────┘\n"
      ]
     },
     "metadata": {},
     "output_type": "display_data"
    },
    {
     "data": {
      "text/html": [
       "<pre style=\"white-space:pre;overflow-x:auto;line-height:normal;font-family:Menlo,'DejaVu Sans Mono',consolas,'Courier New',monospace\"><span style=\"font-weight: bold\"> Total params: </span><span style=\"color: #00af00; text-decoration-color: #00af00\">436</span> (1.70 KB)\n",
       "</pre>\n"
      ],
      "text/plain": [
       "\u001b[1m Total params: \u001b[0m\u001b[38;5;34m436\u001b[0m (1.70 KB)\n"
      ]
     },
     "metadata": {},
     "output_type": "display_data"
    },
    {
     "data": {
      "text/html": [
       "<pre style=\"white-space:pre;overflow-x:auto;line-height:normal;font-family:Menlo,'DejaVu Sans Mono',consolas,'Courier New',monospace\"><span style=\"font-weight: bold\"> Trainable params: </span><span style=\"color: #00af00; text-decoration-color: #00af00\">436</span> (1.70 KB)\n",
       "</pre>\n"
      ],
      "text/plain": [
       "\u001b[1m Trainable params: \u001b[0m\u001b[38;5;34m436\u001b[0m (1.70 KB)\n"
      ]
     },
     "metadata": {},
     "output_type": "display_data"
    },
    {
     "data": {
      "text/html": [
       "<pre style=\"white-space:pre;overflow-x:auto;line-height:normal;font-family:Menlo,'DejaVu Sans Mono',consolas,'Courier New',monospace\"><span style=\"font-weight: bold\"> Non-trainable params: </span><span style=\"color: #00af00; text-decoration-color: #00af00\">0</span> (0.00 B)\n",
       "</pre>\n"
      ],
      "text/plain": [
       "\u001b[1m Non-trainable params: \u001b[0m\u001b[38;5;34m0\u001b[0m (0.00 B)\n"
      ]
     },
     "metadata": {},
     "output_type": "display_data"
    }
   ],
   "source": [
    "model.summary()"
   ]
  },
  {
   "cell_type": "code",
   "execution_count": 17,
   "metadata": {},
   "outputs": [],
   "source": [
    "model.compile(loss=\"binary_crossentropy\",\n",
    "              optimizer=\"adam\",\n",
    "              metrics = ['accuracy'])"
   ]
  },
  {
   "cell_type": "code",
   "execution_count": 18,
   "metadata": {},
   "outputs": [
    {
     "data": {
      "text/plain": [
       "(1312591,)"
      ]
     },
     "execution_count": 18,
     "metadata": {},
     "output_type": "execute_result"
    }
   ],
   "source": [
    "X_Train.shape\n",
    "Y_Train.shape"
   ]
  },
  {
   "cell_type": "code",
   "execution_count": 19,
   "metadata": {},
   "outputs": [
    {
     "name": "stdout",
     "output_type": "stream",
     "text": [
      "Epoch 1/100\n"
     ]
    },
    {
     "name": "stdout",
     "output_type": "stream",
     "text": [
      "\u001b[1m41019/41019\u001b[0m \u001b[32m━━━━━━━━━━━━━━━━━━━━\u001b[0m\u001b[37m\u001b[0m \u001b[1m37s\u001b[0m 873us/step - accuracy: 0.0751 - loss: 14.7446\n",
      "Epoch 2/100\n",
      "\u001b[1m41019/41019\u001b[0m \u001b[32m━━━━━━━━━━━━━━━━━━━━\u001b[0m\u001b[37m\u001b[0m \u001b[1m36s\u001b[0m 881us/step - accuracy: 0.0746 - loss: 14.7517\n",
      "Epoch 3/100\n",
      "\u001b[1m41019/41019\u001b[0m \u001b[32m━━━━━━━━━━━━━━━━━━━━\u001b[0m\u001b[37m\u001b[0m \u001b[1m36s\u001b[0m 867us/step - accuracy: 0.0748 - loss: 14.7485\n",
      "Epoch 4/100\n",
      "\u001b[1m41019/41019\u001b[0m \u001b[32m━━━━━━━━━━━━━━━━━━━━\u001b[0m\u001b[37m\u001b[0m \u001b[1m35s\u001b[0m 851us/step - accuracy: 0.0745 - loss: 14.7531\n",
      "Epoch 5/100\n",
      "\u001b[1m41019/41019\u001b[0m \u001b[32m━━━━━━━━━━━━━━━━━━━━\u001b[0m\u001b[37m\u001b[0m \u001b[1m35s\u001b[0m 854us/step - accuracy: 0.0745 - loss: 14.7536\n",
      "Epoch 6/100\n",
      "\u001b[1m41019/41019\u001b[0m \u001b[32m━━━━━━━━━━━━━━━━━━━━\u001b[0m\u001b[37m\u001b[0m \u001b[1m36s\u001b[0m 865us/step - accuracy: 0.0747 - loss: 14.7509\n",
      "Epoch 7/100\n",
      "\u001b[1m41019/41019\u001b[0m \u001b[32m━━━━━━━━━━━━━━━━━━━━\u001b[0m\u001b[37m\u001b[0m \u001b[1m36s\u001b[0m 865us/step - accuracy: 0.0749 - loss: 14.7473\n",
      "Epoch 8/100\n",
      "\u001b[1m41019/41019\u001b[0m \u001b[32m━━━━━━━━━━━━━━━━━━━━\u001b[0m\u001b[37m\u001b[0m \u001b[1m35s\u001b[0m 841us/step - accuracy: 0.0749 - loss: 14.7476\n",
      "Epoch 9/100\n",
      "\u001b[1m41019/41019\u001b[0m \u001b[32m━━━━━━━━━━━━━━━━━━━━\u001b[0m\u001b[37m\u001b[0m \u001b[1m34s\u001b[0m 822us/step - accuracy: 0.0749 - loss: 14.7465\n",
      "Epoch 10/100\n",
      "\u001b[1m41019/41019\u001b[0m \u001b[32m━━━━━━━━━━━━━━━━━━━━\u001b[0m\u001b[37m\u001b[0m \u001b[1m35s\u001b[0m 844us/step - accuracy: 0.0750 - loss: 14.7449\n",
      "Epoch 11/100\n",
      "\u001b[1m41019/41019\u001b[0m \u001b[32m━━━━━━━━━━━━━━━━━━━━\u001b[0m\u001b[37m\u001b[0m \u001b[1m34s\u001b[0m 825us/step - accuracy: 0.0750 - loss: 14.7450\n",
      "Epoch 12/100\n",
      "\u001b[1m41019/41019\u001b[0m \u001b[32m━━━━━━━━━━━━━━━━━━━━\u001b[0m\u001b[37m\u001b[0m \u001b[1m35s\u001b[0m 841us/step - accuracy: 0.0750 - loss: 14.7457\n",
      "Epoch 13/100\n",
      "\u001b[1m41019/41019\u001b[0m \u001b[32m━━━━━━━━━━━━━━━━━━━━\u001b[0m\u001b[37m\u001b[0m \u001b[1m34s\u001b[0m 838us/step - accuracy: 0.0744 - loss: 14.7549\n",
      "Epoch 14/100\n",
      "\u001b[1m41019/41019\u001b[0m \u001b[32m━━━━━━━━━━━━━━━━━━━━\u001b[0m\u001b[37m\u001b[0m \u001b[1m40s\u001b[0m 981us/step - accuracy: 0.0744 - loss: 14.7557\n",
      "Epoch 15/100\n",
      "\u001b[1m41019/41019\u001b[0m \u001b[32m━━━━━━━━━━━━━━━━━━━━\u001b[0m\u001b[37m\u001b[0m \u001b[1m45s\u001b[0m 1ms/step - accuracy: 0.0746 - loss: 14.7524\n",
      "Epoch 16/100\n",
      "\u001b[1m41019/41019\u001b[0m \u001b[32m━━━━━━━━━━━━━━━━━━━━\u001b[0m\u001b[37m\u001b[0m \u001b[1m46s\u001b[0m 1ms/step - accuracy: 0.0748 - loss: 14.7491\n",
      "Epoch 17/100\n",
      "\u001b[1m41019/41019\u001b[0m \u001b[32m━━━━━━━━━━━━━━━━━━━━\u001b[0m\u001b[37m\u001b[0m \u001b[1m47s\u001b[0m 1ms/step - accuracy: 0.0745 - loss: 14.7532\n",
      "Epoch 18/100\n",
      "\u001b[1m41019/41019\u001b[0m \u001b[32m━━━━━━━━━━━━━━━━━━━━\u001b[0m\u001b[37m\u001b[0m \u001b[1m46s\u001b[0m 1ms/step - accuracy: 0.0744 - loss: 14.7550\n",
      "Epoch 19/100\n",
      "\u001b[1m41019/41019\u001b[0m \u001b[32m━━━━━━━━━━━━━━━━━━━━\u001b[0m\u001b[37m\u001b[0m \u001b[1m45s\u001b[0m 1ms/step - accuracy: 0.0747 - loss: 14.7506\n",
      "Epoch 20/100\n",
      "\u001b[1m41019/41019\u001b[0m \u001b[32m━━━━━━━━━━━━━━━━━━━━\u001b[0m\u001b[37m\u001b[0m \u001b[1m46s\u001b[0m 1ms/step - accuracy: 0.0744 - loss: 14.7543\n",
      "Epoch 21/100\n",
      "\u001b[1m41019/41019\u001b[0m \u001b[32m━━━━━━━━━━━━━━━━━━━━\u001b[0m\u001b[37m\u001b[0m \u001b[1m46s\u001b[0m 1ms/step - accuracy: 0.0747 - loss: 14.7510\n",
      "Epoch 22/100\n",
      "\u001b[1m41019/41019\u001b[0m \u001b[32m━━━━━━━━━━━━━━━━━━━━\u001b[0m\u001b[37m\u001b[0m \u001b[1m46s\u001b[0m 1ms/step - accuracy: 0.0747 - loss: 14.7497\n",
      "Epoch 23/100\n",
      "\u001b[1m41019/41019\u001b[0m \u001b[32m━━━━━━━━━━━━━━━━━━━━\u001b[0m\u001b[37m\u001b[0m \u001b[1m45s\u001b[0m 1ms/step - accuracy: 0.0749 - loss: 14.7468\n",
      "Epoch 24/100\n",
      "\u001b[1m41019/41019\u001b[0m \u001b[32m━━━━━━━━━━━━━━━━━━━━\u001b[0m\u001b[37m\u001b[0m \u001b[1m45s\u001b[0m 1ms/step - accuracy: 0.0747 - loss: 14.7501\n",
      "Epoch 25/100\n",
      "\u001b[1m41019/41019\u001b[0m \u001b[32m━━━━━━━━━━━━━━━━━━━━\u001b[0m\u001b[37m\u001b[0m \u001b[1m46s\u001b[0m 1ms/step - accuracy: 0.0744 - loss: 14.7550\n",
      "Epoch 26/100\n",
      "\u001b[1m41019/41019\u001b[0m \u001b[32m━━━━━━━━━━━━━━━━━━━━\u001b[0m\u001b[37m\u001b[0m \u001b[1m47s\u001b[0m 1ms/step - accuracy: 0.0748 - loss: 14.7492\n",
      "Epoch 27/100\n",
      "\u001b[1m41019/41019\u001b[0m \u001b[32m━━━━━━━━━━━━━━━━━━━━\u001b[0m\u001b[37m\u001b[0m \u001b[1m47s\u001b[0m 1ms/step - accuracy: 0.0748 - loss: 14.7484\n",
      "Epoch 28/100\n",
      "\u001b[1m41019/41019\u001b[0m \u001b[32m━━━━━━━━━━━━━━━━━━━━\u001b[0m\u001b[37m\u001b[0m \u001b[1m46s\u001b[0m 1ms/step - accuracy: 0.0745 - loss: 14.7532\n",
      "Epoch 29/100\n",
      "\u001b[1m41019/41019\u001b[0m \u001b[32m━━━━━━━━━━━━━━━━━━━━\u001b[0m\u001b[37m\u001b[0m \u001b[1m46s\u001b[0m 1ms/step - accuracy: 0.0749 - loss: 14.7479\n",
      "Epoch 30/100\n",
      "\u001b[1m41019/41019\u001b[0m \u001b[32m━━━━━━━━━━━━━━━━━━━━\u001b[0m\u001b[37m\u001b[0m \u001b[1m46s\u001b[0m 1ms/step - accuracy: 0.0748 - loss: 14.7486\n",
      "Epoch 31/100\n",
      "\u001b[1m41019/41019\u001b[0m \u001b[32m━━━━━━━━━━━━━━━━━━━━\u001b[0m\u001b[37m\u001b[0m \u001b[1m46s\u001b[0m 1ms/step - accuracy: 0.0746 - loss: 14.7517\n",
      "Epoch 32/100\n",
      "\u001b[1m41019/41019\u001b[0m \u001b[32m━━━━━━━━━━━━━━━━━━━━\u001b[0m\u001b[37m\u001b[0m \u001b[1m46s\u001b[0m 1ms/step - accuracy: 0.0750 - loss: 14.7449\n",
      "Epoch 33/100\n",
      "\u001b[1m41019/41019\u001b[0m \u001b[32m━━━━━━━━━━━━━━━━━━━━\u001b[0m\u001b[37m\u001b[0m \u001b[1m45s\u001b[0m 1ms/step - accuracy: 0.0750 - loss: 14.7449\n",
      "Epoch 34/100\n",
      "\u001b[1m41019/41019\u001b[0m \u001b[32m━━━━━━━━━━━━━━━━━━━━\u001b[0m\u001b[37m\u001b[0m \u001b[1m528s\u001b[0m 13ms/step - accuracy: 0.0747 - loss: 14.7503\n",
      "Epoch 35/100\n",
      "\u001b[1m41019/41019\u001b[0m \u001b[32m━━━━━━━━━━━━━━━━━━━━\u001b[0m\u001b[37m\u001b[0m \u001b[1m30s\u001b[0m 733us/step - accuracy: 0.0744 - loss: 14.7547\n",
      "Epoch 36/100\n",
      "\u001b[1m41019/41019\u001b[0m \u001b[32m━━━━━━━━━━━━━━━━━━━━\u001b[0m\u001b[37m\u001b[0m \u001b[1m30s\u001b[0m 737us/step - accuracy: 0.0745 - loss: 14.7531\n",
      "Epoch 37/100\n",
      "\u001b[1m41019/41019\u001b[0m \u001b[32m━━━━━━━━━━━━━━━━━━━━\u001b[0m\u001b[37m\u001b[0m \u001b[1m28s\u001b[0m 686us/step - accuracy: 0.0747 - loss: 14.7505\n",
      "Epoch 38/100\n",
      "\u001b[1m41019/41019\u001b[0m \u001b[32m━━━━━━━━━━━━━━━━━━━━\u001b[0m\u001b[37m\u001b[0m \u001b[1m28s\u001b[0m 680us/step - accuracy: 0.0745 - loss: 14.7533\n",
      "Epoch 39/100\n",
      "\u001b[1m41019/41019\u001b[0m \u001b[32m━━━━━━━━━━━━━━━━━━━━\u001b[0m\u001b[37m\u001b[0m \u001b[1m28s\u001b[0m 684us/step - accuracy: 0.0749 - loss: 14.7474\n",
      "Epoch 40/100\n",
      "\u001b[1m41019/41019\u001b[0m \u001b[32m━━━━━━━━━━━━━━━━━━━━\u001b[0m\u001b[37m\u001b[0m \u001b[1m29s\u001b[0m 697us/step - accuracy: 0.0746 - loss: 14.7515\n",
      "Epoch 41/100\n",
      "\u001b[1m41019/41019\u001b[0m \u001b[32m━━━━━━━━━━━━━━━━━━━━\u001b[0m\u001b[37m\u001b[0m \u001b[1m28s\u001b[0m 686us/step - accuracy: 0.0747 - loss: 14.7501\n",
      "Epoch 42/100\n",
      "\u001b[1m41019/41019\u001b[0m \u001b[32m━━━━━━━━━━━━━━━━━━━━\u001b[0m\u001b[37m\u001b[0m \u001b[1m28s\u001b[0m 690us/step - accuracy: 0.0747 - loss: 14.7497\n",
      "Epoch 43/100\n",
      "\u001b[1m41019/41019\u001b[0m \u001b[32m━━━━━━━━━━━━━━━━━━━━\u001b[0m\u001b[37m\u001b[0m \u001b[1m29s\u001b[0m 698us/step - accuracy: 0.0749 - loss: 14.7475\n",
      "Epoch 44/100\n",
      "\u001b[1m41019/41019\u001b[0m \u001b[32m━━━━━━━━━━━━━━━━━━━━\u001b[0m\u001b[37m\u001b[0m \u001b[1m30s\u001b[0m 723us/step - accuracy: 0.0749 - loss: 14.7465\n",
      "Epoch 45/100\n",
      "\u001b[1m41019/41019\u001b[0m \u001b[32m━━━━━━━━━━━━━━━━━━━━\u001b[0m\u001b[37m\u001b[0m \u001b[1m28s\u001b[0m 690us/step - accuracy: 0.0747 - loss: 14.7511\n",
      "Epoch 46/100\n",
      "\u001b[1m41019/41019\u001b[0m \u001b[32m━━━━━━━━━━━━━━━━━━━━\u001b[0m\u001b[37m\u001b[0m \u001b[1m28s\u001b[0m 680us/step - accuracy: 0.0746 - loss: 14.7516\n",
      "Epoch 47/100\n",
      "\u001b[1m41019/41019\u001b[0m \u001b[32m━━━━━━━━━━━━━━━━━━━━\u001b[0m\u001b[37m\u001b[0m \u001b[1m28s\u001b[0m 680us/step - accuracy: 0.0750 - loss: 14.7452\n",
      "Epoch 48/100\n",
      "\u001b[1m41019/41019\u001b[0m \u001b[32m━━━━━━━━━━━━━━━━━━━━\u001b[0m\u001b[37m\u001b[0m \u001b[1m28s\u001b[0m 685us/step - accuracy: 0.0749 - loss: 14.7464\n",
      "Epoch 49/100\n",
      "\u001b[1m41019/41019\u001b[0m \u001b[32m━━━━━━━━━━━━━━━━━━━━\u001b[0m\u001b[37m\u001b[0m \u001b[1m28s\u001b[0m 691us/step - accuracy: 0.0744 - loss: 14.7551\n",
      "Epoch 50/100\n",
      "\u001b[1m41019/41019\u001b[0m \u001b[32m━━━━━━━━━━━━━━━━━━━━\u001b[0m\u001b[37m\u001b[0m \u001b[1m28s\u001b[0m 685us/step - accuracy: 0.0748 - loss: 14.7492\n",
      "Epoch 51/100\n",
      "\u001b[1m41019/41019\u001b[0m \u001b[32m━━━━━━━━━━━━━━━━━━━━\u001b[0m\u001b[37m\u001b[0m \u001b[1m28s\u001b[0m 680us/step - accuracy: 0.0746 - loss: 14.7515\n",
      "Epoch 52/100\n",
      "\u001b[1m41019/41019\u001b[0m \u001b[32m━━━━━━━━━━━━━━━━━━━━\u001b[0m\u001b[37m\u001b[0m \u001b[1m28s\u001b[0m 692us/step - accuracy: 0.0746 - loss: 14.7517\n",
      "Epoch 53/100\n",
      "\u001b[1m41019/41019\u001b[0m \u001b[32m━━━━━━━━━━━━━━━━━━━━\u001b[0m\u001b[37m\u001b[0m \u001b[1m28s\u001b[0m 680us/step - accuracy: 0.0748 - loss: 14.7486\n",
      "Epoch 54/100\n",
      "\u001b[1m41019/41019\u001b[0m \u001b[32m━━━━━━━━━━━━━━━━━━━━\u001b[0m\u001b[37m\u001b[0m \u001b[1m28s\u001b[0m 688us/step - accuracy: 0.0748 - loss: 14.7492\n",
      "Epoch 55/100\n",
      "\u001b[1m41019/41019\u001b[0m \u001b[32m━━━━━━━━━━━━━━━━━━━━\u001b[0m\u001b[37m\u001b[0m \u001b[1m28s\u001b[0m 692us/step - accuracy: 0.0747 - loss: 14.7498\n",
      "Epoch 56/100\n",
      "\u001b[1m41019/41019\u001b[0m \u001b[32m━━━━━━━━━━━━━━━━━━━━\u001b[0m\u001b[37m\u001b[0m \u001b[1m30s\u001b[0m 719us/step - accuracy: 0.0747 - loss: 14.7506\n",
      "Epoch 57/100\n",
      "\u001b[1m41019/41019\u001b[0m \u001b[32m━━━━━━━━━━━━━━━━━━━━\u001b[0m\u001b[37m\u001b[0m \u001b[1m28s\u001b[0m 691us/step - accuracy: 0.0748 - loss: 14.7489\n",
      "Epoch 58/100\n",
      "\u001b[1m41019/41019\u001b[0m \u001b[32m━━━━━━━━━━━━━━━━━━━━\u001b[0m\u001b[37m\u001b[0m \u001b[1m29s\u001b[0m 695us/step - accuracy: 0.0745 - loss: 14.7538\n",
      "Epoch 59/100\n",
      "\u001b[1m41019/41019\u001b[0m \u001b[32m━━━━━━━━━━━━━━━━━━━━\u001b[0m\u001b[37m\u001b[0m \u001b[1m28s\u001b[0m 690us/step - accuracy: 0.0748 - loss: 14.7489\n",
      "Epoch 60/100\n",
      "\u001b[1m41019/41019\u001b[0m \u001b[32m━━━━━━━━━━━━━━━━━━━━\u001b[0m\u001b[37m\u001b[0m \u001b[1m28s\u001b[0m 690us/step - accuracy: 0.0747 - loss: 14.7497\n",
      "Epoch 61/100\n",
      "\u001b[1m41019/41019\u001b[0m \u001b[32m━━━━━━━━━━━━━━━━━━━━\u001b[0m\u001b[37m\u001b[0m \u001b[1m28s\u001b[0m 684us/step - accuracy: 0.0747 - loss: 14.7498\n",
      "Epoch 62/100\n",
      "\u001b[1m41019/41019\u001b[0m \u001b[32m━━━━━━━━━━━━━━━━━━━━\u001b[0m\u001b[37m\u001b[0m \u001b[1m28s\u001b[0m 692us/step - accuracy: 0.0747 - loss: 14.7506\n",
      "Epoch 63/100\n",
      "\u001b[1m41019/41019\u001b[0m \u001b[32m━━━━━━━━━━━━━━━━━━━━\u001b[0m\u001b[37m\u001b[0m \u001b[1m28s\u001b[0m 685us/step - accuracy: 0.0748 - loss: 14.7491\n",
      "Epoch 64/100\n",
      "\u001b[1m41019/41019\u001b[0m \u001b[32m━━━━━━━━━━━━━━━━━━━━\u001b[0m\u001b[37m\u001b[0m \u001b[1m29s\u001b[0m 697us/step - accuracy: 0.0748 - loss: 14.7482\n",
      "Epoch 65/100\n",
      "\u001b[1m41019/41019\u001b[0m \u001b[32m━━━━━━━━━━━━━━━━━━━━\u001b[0m\u001b[37m\u001b[0m \u001b[1m28s\u001b[0m 687us/step - accuracy: 0.0746 - loss: 14.7523\n",
      "Epoch 66/100\n",
      "\u001b[1m41019/41019\u001b[0m \u001b[32m━━━━━━━━━━━━━━━━━━━━\u001b[0m\u001b[37m\u001b[0m \u001b[1m29s\u001b[0m 700us/step - accuracy: 0.0747 - loss: 14.7499\n",
      "Epoch 67/100\n",
      "\u001b[1m41019/41019\u001b[0m \u001b[32m━━━━━━━━━━━━━━━━━━━━\u001b[0m\u001b[37m\u001b[0m \u001b[1m28s\u001b[0m 685us/step - accuracy: 0.0745 - loss: 14.7536\n",
      "Epoch 68/100\n",
      "\u001b[1m41019/41019\u001b[0m \u001b[32m━━━━━━━━━━━━━━━━━━━━\u001b[0m\u001b[37m\u001b[0m \u001b[1m28s\u001b[0m 685us/step - accuracy: 0.0754 - loss: 14.7393\n",
      "Epoch 69/100\n",
      "\u001b[1m41019/41019\u001b[0m \u001b[32m━━━━━━━━━━━━━━━━━━━━\u001b[0m\u001b[37m\u001b[0m \u001b[1m29s\u001b[0m 701us/step - accuracy: 0.0745 - loss: 14.7539\n",
      "Epoch 70/100\n",
      "\u001b[1m41019/41019\u001b[0m \u001b[32m━━━━━━━━━━━━━━━━━━━━\u001b[0m\u001b[37m\u001b[0m \u001b[1m28s\u001b[0m 678us/step - accuracy: 0.0746 - loss: 14.7526\n",
      "Epoch 71/100\n",
      "\u001b[1m41019/41019\u001b[0m \u001b[32m━━━━━━━━━━━━━━━━━━━━\u001b[0m\u001b[37m\u001b[0m \u001b[1m28s\u001b[0m 691us/step - accuracy: 0.0748 - loss: 14.7493\n",
      "Epoch 72/100\n",
      "\u001b[1m41019/41019\u001b[0m \u001b[32m━━━━━━━━━━━━━━━━━━━━\u001b[0m\u001b[37m\u001b[0m \u001b[1m28s\u001b[0m 684us/step - accuracy: 0.0746 - loss: 14.7513\n",
      "Epoch 73/100\n",
      "\u001b[1m41019/41019\u001b[0m \u001b[32m━━━━━━━━━━━━━━━━━━━━\u001b[0m\u001b[37m\u001b[0m \u001b[1m29s\u001b[0m 694us/step - accuracy: 0.0747 - loss: 14.7507\n",
      "Epoch 74/100\n",
      "\u001b[1m41019/41019\u001b[0m \u001b[32m━━━━━━━━━━━━━━━━━━━━\u001b[0m\u001b[37m\u001b[0m \u001b[1m29s\u001b[0m 697us/step - accuracy: 0.0747 - loss: 14.7496\n",
      "Epoch 75/100\n",
      "\u001b[1m41019/41019\u001b[0m \u001b[32m━━━━━━━━━━━━━━━━━━━━\u001b[0m\u001b[37m\u001b[0m \u001b[1m29s\u001b[0m 704us/step - accuracy: 0.0748 - loss: 14.7481\n",
      "Epoch 76/100\n",
      "\u001b[1m41019/41019\u001b[0m \u001b[32m━━━━━━━━━━━━━━━━━━━━\u001b[0m\u001b[37m\u001b[0m \u001b[1m29s\u001b[0m 695us/step - accuracy: 0.0746 - loss: 14.7524\n",
      "Epoch 77/100\n",
      "\u001b[1m41019/41019\u001b[0m \u001b[32m━━━━━━━━━━━━━━━━━━━━\u001b[0m\u001b[37m\u001b[0m \u001b[1m28s\u001b[0m 691us/step - accuracy: 0.0748 - loss: 14.7479\n",
      "Epoch 78/100\n",
      "\u001b[1m41019/41019\u001b[0m \u001b[32m━━━━━━━━━━━━━━━━━━━━\u001b[0m\u001b[37m\u001b[0m \u001b[1m28s\u001b[0m 690us/step - accuracy: 0.0746 - loss: 14.7515\n",
      "Epoch 79/100\n",
      "\u001b[1m41019/41019\u001b[0m \u001b[32m━━━━━━━━━━━━━━━━━━━━\u001b[0m\u001b[37m\u001b[0m \u001b[1m28s\u001b[0m 685us/step - accuracy: 0.0748 - loss: 14.7483\n",
      "Epoch 80/100\n",
      "\u001b[1m41019/41019\u001b[0m \u001b[32m━━━━━━━━━━━━━━━━━━━━\u001b[0m\u001b[37m\u001b[0m \u001b[1m28s\u001b[0m 685us/step - accuracy: 0.0748 - loss: 14.7487\n",
      "Epoch 81/100\n",
      "\u001b[1m41019/41019\u001b[0m \u001b[32m━━━━━━━━━━━━━━━━━━━━\u001b[0m\u001b[37m\u001b[0m \u001b[1m28s\u001b[0m 692us/step - accuracy: 0.0748 - loss: 14.7494\n",
      "Epoch 82/100\n",
      "\u001b[1m41019/41019\u001b[0m \u001b[32m━━━━━━━━━━━━━━━━━━━━\u001b[0m\u001b[37m\u001b[0m \u001b[1m28s\u001b[0m 688us/step - accuracy: 0.0750 - loss: 14.7463\n",
      "Epoch 83/100\n",
      "\u001b[1m41019/41019\u001b[0m \u001b[32m━━━━━━━━━━━━━━━━━━━━\u001b[0m\u001b[37m\u001b[0m \u001b[1m29s\u001b[0m 711us/step - accuracy: 0.0749 - loss: 14.7472\n",
      "Epoch 84/100\n",
      "\u001b[1m41019/41019\u001b[0m \u001b[32m━━━━━━━━━━━━━━━━━━━━\u001b[0m\u001b[37m\u001b[0m \u001b[1m28s\u001b[0m 689us/step - accuracy: 0.0746 - loss: 14.7526\n",
      "Epoch 85/100\n",
      "\u001b[1m41019/41019\u001b[0m \u001b[32m━━━━━━━━━━━━━━━━━━━━\u001b[0m\u001b[37m\u001b[0m \u001b[1m29s\u001b[0m 694us/step - accuracy: 0.0747 - loss: 14.7506\n",
      "Epoch 86/100\n",
      "\u001b[1m41019/41019\u001b[0m \u001b[32m━━━━━━━━━━━━━━━━━━━━\u001b[0m\u001b[37m\u001b[0m \u001b[1m29s\u001b[0m 696us/step - accuracy: 0.0753 - loss: 14.7405\n",
      "Epoch 87/100\n",
      "\u001b[1m41019/41019\u001b[0m \u001b[32m━━━━━━━━━━━━━━━━━━━━\u001b[0m\u001b[37m\u001b[0m \u001b[1m28s\u001b[0m 688us/step - accuracy: 0.0743 - loss: 14.7560\n",
      "Epoch 88/100\n",
      "\u001b[1m41019/41019\u001b[0m \u001b[32m━━━━━━━━━━━━━━━━━━━━\u001b[0m\u001b[37m\u001b[0m \u001b[1m29s\u001b[0m 695us/step - accuracy: 0.0748 - loss: 14.7487\n",
      "Epoch 89/100\n",
      "\u001b[1m41019/41019\u001b[0m \u001b[32m━━━━━━━━━━━━━━━━━━━━\u001b[0m\u001b[37m\u001b[0m \u001b[1m28s\u001b[0m 692us/step - accuracy: 0.0746 - loss: 14.7523\n",
      "Epoch 90/100\n",
      "\u001b[1m41019/41019\u001b[0m \u001b[32m━━━━━━━━━━━━━━━━━━━━\u001b[0m\u001b[37m\u001b[0m \u001b[1m29s\u001b[0m 703us/step - accuracy: 0.0746 - loss: 14.7523\n",
      "Epoch 91/100\n",
      "\u001b[1m41019/41019\u001b[0m \u001b[32m━━━━━━━━━━━━━━━━━━━━\u001b[0m\u001b[37m\u001b[0m \u001b[1m28s\u001b[0m 692us/step - accuracy: 0.0743 - loss: 14.7562\n",
      "Epoch 92/100\n",
      "\u001b[1m41019/41019\u001b[0m \u001b[32m━━━━━━━━━━━━━━━━━━━━\u001b[0m\u001b[37m\u001b[0m \u001b[1m29s\u001b[0m 698us/step - accuracy: 0.0745 - loss: 14.7539\n",
      "Epoch 93/100\n",
      "\u001b[1m41019/41019\u001b[0m \u001b[32m━━━━━━━━━━━━━━━━━━━━\u001b[0m\u001b[37m\u001b[0m \u001b[1m28s\u001b[0m 687us/step - accuracy: 0.0747 - loss: 14.7507\n",
      "Epoch 94/100\n",
      "\u001b[1m41019/41019\u001b[0m \u001b[32m━━━━━━━━━━━━━━━━━━━━\u001b[0m\u001b[37m\u001b[0m \u001b[1m28s\u001b[0m 685us/step - accuracy: 0.0749 - loss: 14.7478\n",
      "Epoch 95/100\n",
      "\u001b[1m41019/41019\u001b[0m \u001b[32m━━━━━━━━━━━━━━━━━━━━\u001b[0m\u001b[37m\u001b[0m \u001b[1m28s\u001b[0m 689us/step - accuracy: 0.0749 - loss: 14.7466\n",
      "Epoch 96/100\n",
      "\u001b[1m41019/41019\u001b[0m \u001b[32m━━━━━━━━━━━━━━━━━━━━\u001b[0m\u001b[37m\u001b[0m \u001b[1m28s\u001b[0m 682us/step - accuracy: 0.0751 - loss: 14.7433\n",
      "Epoch 97/100\n",
      "\u001b[1m41019/41019\u001b[0m \u001b[32m━━━━━━━━━━━━━━━━━━━━\u001b[0m\u001b[37m\u001b[0m \u001b[1m29s\u001b[0m 693us/step - accuracy: 0.0745 - loss: 14.7543\n",
      "Epoch 98/100\n",
      "\u001b[1m41019/41019\u001b[0m \u001b[32m━━━━━━━━━━━━━━━━━━━━\u001b[0m\u001b[37m\u001b[0m \u001b[1m28s\u001b[0m 683us/step - accuracy: 0.0748 - loss: 14.7487\n",
      "Epoch 99/100\n",
      "\u001b[1m41019/41019\u001b[0m \u001b[32m━━━━━━━━━━━━━━━━━━━━\u001b[0m\u001b[37m\u001b[0m \u001b[1m29s\u001b[0m 700us/step - accuracy: 0.0748 - loss: 14.7486\n",
      "Epoch 100/100\n",
      "\u001b[1m41019/41019\u001b[0m \u001b[32m━━━━━━━━━━━━━━━━━━━━\u001b[0m\u001b[37m\u001b[0m \u001b[1m29s\u001b[0m 696us/step - accuracy: 0.0746 - loss: 14.7520\n"
     ]
    },
    {
     "data": {
      "text/plain": [
       "<keras.src.callbacks.history.History at 0x1a2b5731790>"
      ]
     },
     "execution_count": 19,
     "metadata": {},
     "output_type": "execute_result"
    }
   ],
   "source": [
    "model.fit(X_Train, Y_Train, batch_size=32, epochs=100, verbose=1, shuffle=True)"
   ]
  },
  {
   "cell_type": "code",
   "execution_count": 20,
   "metadata": {},
   "outputs": [],
   "source": [
    "#test_loss, test_acc = model.evadeluate(X_Test, Y_Test)\n",
    "#print('Test accuracy:', round(test_acc,4))"
   ]
  },
  {
   "cell_type": "code",
   "execution_count": 21,
   "metadata": {},
   "outputs": [
    {
     "name": "stdout",
     "output_type": "stream",
     "text": [
      "\u001b[1m17580/17580\u001b[0m \u001b[32m━━━━━━━━━━━━━━━━━━━━\u001b[0m\u001b[37m\u001b[0m \u001b[1m9s\u001b[0m 482us/step\n"
     ]
    },
    {
     "data": {
      "text/plain": [
       "array([[1.],\n",
       "       [1.],\n",
       "       [1.],\n",
       "       ...,\n",
       "       [1.],\n",
       "       [1.],\n",
       "       [1.]], dtype=float32)"
      ]
     },
     "execution_count": 21,
     "metadata": {},
     "output_type": "execute_result"
    }
   ],
   "source": [
    "predictions = model.predict(X_Test)\n",
    "predictions"
   ]
  },
  {
   "cell_type": "code",
   "execution_count": 23,
   "metadata": {},
   "outputs": [],
   "source": [
    "report = []"
   ]
  },
  {
   "cell_type": "code",
   "execution_count": 24,
   "metadata": {},
   "outputs": [
    {
     "name": "stdout",
     "output_type": "stream",
     "text": [
      "FNR:\n",
      "0.0\n",
      "ER:\n",
      "0.9056884843744445\n",
      "Precision:\n",
      "0.09431151562555552\n",
      "Recall:\n",
      "1.0\n",
      "F-1 Score:\n",
      "0.17236685217854625\n",
      "accuracy\n",
      "0.09431151562555552\n"
     ]
    }
   ],
   "source": [
    "d = list(eval(Y_Test,predictions))\n",
    "d.insert(0,\"Simple DNN\")\n",
    "report.append(d)"
   ]
  },
  {
   "cell_type": "code",
   "execution_count": 25,
   "metadata": {},
   "outputs": [
    {
     "data": {
      "text/html": [
       "<div>\n",
       "<style scoped>\n",
       "    .dataframe tbody tr th:only-of-type {\n",
       "        vertical-align: middle;\n",
       "    }\n",
       "\n",
       "    .dataframe tbody tr th {\n",
       "        vertical-align: top;\n",
       "    }\n",
       "\n",
       "    .dataframe thead th {\n",
       "        text-align: right;\n",
       "    }\n",
       "</style>\n",
       "<table border=\"1\" class=\"dataframe\">\n",
       "  <thead>\n",
       "    <tr style=\"text-align: right;\">\n",
       "      <th></th>\n",
       "      <th>Method</th>\n",
       "      <th>FNR</th>\n",
       "      <th>ER</th>\n",
       "      <th>Precision</th>\n",
       "      <th>Recall</th>\n",
       "      <th>F-1 Score</th>\n",
       "      <th>Accuracy</th>\n",
       "    </tr>\n",
       "  </thead>\n",
       "  <tbody>\n",
       "    <tr>\n",
       "      <th>0</th>\n",
       "      <td>Simple DNN</td>\n",
       "      <td>0.0</td>\n",
       "      <td>0.905688</td>\n",
       "      <td>0.094312</td>\n",
       "      <td>1.0</td>\n",
       "      <td>0.172367</td>\n",
       "      <td>0.094312</td>\n",
       "    </tr>\n",
       "  </tbody>\n",
       "</table>\n",
       "</div>"
      ],
      "text/plain": [
       "       Method  FNR        ER  Precision  Recall  F-1 Score  Accuracy\n",
       "0  Simple DNN  0.0  0.905688   0.094312     1.0   0.172367  0.094312"
      ]
     },
     "execution_count": 25,
     "metadata": {},
     "output_type": "execute_result"
    }
   ],
   "source": [
    "##############################Report##################################\n",
    "\n",
    "\n",
    "report_df = pd.DataFrame(report, columns=['Method', 'FNR', 'ER', 'Precision', 'Recall', 'F-1 Score', 'Accuracy'])\n",
    "report_df"
   ]
  }
 ],
 "metadata": {
  "kernelspec": {
   "display_name": "Python 3",
   "language": "python",
   "name": "python3"
  },
  "language_info": {
   "codemirror_mode": {
    "name": "ipython",
    "version": 3
   },
   "file_extension": ".py",
   "mimetype": "text/x-python",
   "name": "python",
   "nbconvert_exporter": "python",
   "pygments_lexer": "ipython3",
   "version": "3.11.3"
  }
 },
 "nbformat": 4,
 "nbformat_minor": 2
}
